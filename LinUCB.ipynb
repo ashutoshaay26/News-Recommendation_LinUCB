{
 "cells": [
  {
   "cell_type": "code",
   "execution_count": null,
   "metadata": {},
   "outputs": [],
   "source": [
    "# Install relevant libraries\n",
    "!pip install numpy matplotlib"
   ]
  },
  {
   "cell_type": "code",
   "execution_count": 2,
   "metadata": {},
   "outputs": [],
   "source": [
    "import numpy as np\n",
    "import matplotlib.pyplot as plt"
   ]
  },
  {
   "cell_type": "code",
   "execution_count": 3,
   "metadata": {},
   "outputs": [],
   "source": [
    "# Main parameters for algorithm\n",
    "n_points = 5000 # total data points\n",
    "n_arms = 10   # number of arms\n",
    "n_features = 30 # number of features\n"
   ]
  },
  {
   "cell_type": "code",
   "execution_count": 4,
   "metadata": {},
   "outputs": [],
   "source": [
    "context=np.random.random( (n_points,n_features))-0.5            # Context  Matrix (data)\n",
    "theta=np.random.random( (n_arms,n_features) ) - 0.5      # real theta, what we will try to guess\n",
    "\n",
    "P=context.dot(theta.T)\n",
    "\n",
    "optimal=np.array(P.argmax(axis=1), dtype=int)\n",
    "#plt.title(\"Distribution of ideal arm choices\")\n",
    "#plt.hist(optimal,bins=range(0,n_arms));"
   ]
  },
  {
   "cell_type": "markdown",
   "metadata": {},
   "source": [
    "## Creating Synthetic Data"
   ]
  },
  {
   "cell_type": "code",
   "execution_count": 5,
   "metadata": {},
   "outputs": [],
   "source": [
    "eps = 0.2\n",
    "choices = np.zeros(n_points)\n",
    "rewards = np.zeros(n_points)\n",
    "explore = np.zeros(n_points)\n",
    "norms   = np.zeros(n_points)\n",
    "\n",
    "b = np.zeros((n_arms,n_features))\n",
    "#b = np.zeros_like(theta)\n",
    "A  = np.zeros((n_arms,n_features,n_features))\n",
    "\n",
    "#print(temp.shape)\n",
    "#print( ba.shape) \n",
    "#print(th.shape)\n",
    "\n",
    "# Making Identity matrix for all new arms at initial times.\n",
    "for i in range(n_arms):\n",
    "    A[i] = np.identity(n_features)\n",
    "    \n",
    "theta_hat = np.zeros_like(theta) # Current best prediction\n",
    "p = np.zeros(n_arms)   # Confidence Interval for arms.\n",
    "alpha = 0.2 # constant to hold tight inequality.\n",
    "\n",
    "for i in range(n_points):\n",
    "    current_context = context[i]  # current context vector for t=i\n",
    "    \n",
    "    for a in range(n_arms):\n",
    "        inv_A = np.linalg.inv(A[a])   # inverse of matrix A\n",
    "        theta_hat[a] = inv_A.dot(b[a])  # Calculating theta_hat\n",
    "        variance = current_context.dot(inv_A).dot(current_context)\n",
    "        a_upper_ci = alpha*np.sqrt(variance)  # Upper confidence interval\n",
    "        a_mean = theta_hat[a].dot(current_context)\n",
    "        p[a] = a_mean + a_upper_ci\n",
    "        \n",
    "    norms[i]       = np.linalg.norm(theta_hat - theta,'fro')    # diagnostic, are we converging ?\n",
    "        \n",
    "    # Let's not be biased with tiebreaks, but add in some random noise\n",
    "    p= p + ( np.random.random(len(p)) * 0.000001)\n",
    "    choices[i] = p.argmax()   # choose the highest, line 11\n",
    "    rewards[i] = theta[int(choices[i])].dot(current_context)    # Calculating reward for current context with selected arm choice[i]\n",
    "    \n",
    "    # Update A and b\n",
    "    A[int(choices[i])] += np.outer(current_context,current_context)\n",
    "    b[int(choices[i])] += rewards[i]*current_context"
   ]
  },
  {
   "cell_type": "markdown",
   "metadata": {},
   "source": [
    "## LinUCB Algorithm with Disjoint Linear Models."
   ]
  },
  {
   "cell_type": "code",
   "execution_count": 6,
   "metadata": {},
   "outputs": [
    {
     "data": {
      "image/png": "[encoded data removed]",
      "text/plain": [
       "<matplotlib.figure.Figure at 0x2b6679a160>"
      ]
     },
     "metadata": {
      "needs_background": "light"
     },
     "output_type": "display_data"
    }
   ],
   "source": [
    "plt.figure(1,figsize=(10,5))\n",
    "plt.subplot(121)\n",
    "plt.plot(norms);\n",
    "plt.title(\"Frobenius norm of estimated theta vs actual\");\n",
    "\n",
    "regret=(P.max(axis=1) - rewards)\n",
    "plt.subplot(122)\n",
    "plt.plot(regret.cumsum())\n",
    "plt.title(\"Cumulative Regret\");"
   ]
  }
 ],
 "metadata": {
  "kernelspec": {
   "display_name": "Python 3",
   "language": "python",
   "name": "python3"
  },
  "language_info": {
   "codemirror_mode": {
    "name": "ipython",
    "version": 3
   },
   "file_extension": ".py",
   "mimetype": "text/x-python",
   "name": "python",
   "nbconvert_exporter": "python",
   "pygments_lexer": "ipython3",
   "version": "3.6.8"
  }
 },
 "nbformat": 4,
 "nbformat_minor": 2
}
